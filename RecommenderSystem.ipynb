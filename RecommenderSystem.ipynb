{
 "cells": [
  {
   "cell_type": "markdown",
   "metadata": {},
   "source": [
    "# Recommender System using Collaborative Filtering"
   ]
  },
  {
   "cell_type": "markdown",
   "metadata": {},
   "source": [
    "DATA: Spotify Song Ratings  \n",
    "User-based collaborative filtering via Matrix Factorization"
   ]
  },
  {
   "cell_type": "markdown",
   "metadata": {},
   "source": [
    "### Data loading & preprocessing"
   ]
  },
  {
   "cell_type": "code",
   "execution_count": 1,
   "metadata": {},
   "outputs": [],
   "source": [
    "import pandas as pd\n",
    "import numpy as np\n",
    "import matplotlib.pyplot as plt"
   ]
  },
  {
   "cell_type": "code",
   "execution_count": 2,
   "metadata": {},
   "outputs": [
    {
     "data": {
      "text/html": [
       "<div>\n",
       "<style scoped>\n",
       "    .dataframe tbody tr th:only-of-type {\n",
       "        vertical-align: middle;\n",
       "    }\n",
       "\n",
       "    .dataframe tbody tr th {\n",
       "        vertical-align: top;\n",
       "    }\n",
       "\n",
       "    .dataframe thead th {\n",
       "        text-align: right;\n",
       "    }\n",
       "</style>\n",
       "<table border=\"1\" class=\"dataframe\">\n",
       "  <thead>\n",
       "    <tr style=\"text-align: right;\">\n",
       "      <th></th>\n",
       "      <th>0</th>\n",
       "      <th>1</th>\n",
       "      <th>2</th>\n",
       "      <th>3</th>\n",
       "      <th>4</th>\n",
       "      <th>5</th>\n",
       "      <th>6</th>\n",
       "      <th>7</th>\n",
       "      <th>8</th>\n",
       "      <th>9</th>\n",
       "      <th>...</th>\n",
       "      <th>4990</th>\n",
       "      <th>4991</th>\n",
       "      <th>4992</th>\n",
       "      <th>4993</th>\n",
       "      <th>4994</th>\n",
       "      <th>4995</th>\n",
       "      <th>4996</th>\n",
       "      <th>4997</th>\n",
       "      <th>4998</th>\n",
       "      <th>4999</th>\n",
       "    </tr>\n",
       "  </thead>\n",
       "  <tbody>\n",
       "    <tr>\n",
       "      <th>0</th>\n",
       "      <td>NaN</td>\n",
       "      <td>NaN</td>\n",
       "      <td>NaN</td>\n",
       "      <td>NaN</td>\n",
       "      <td>NaN</td>\n",
       "      <td>NaN</td>\n",
       "      <td>NaN</td>\n",
       "      <td>NaN</td>\n",
       "      <td>NaN</td>\n",
       "      <td>NaN</td>\n",
       "      <td>...</td>\n",
       "      <td>NaN</td>\n",
       "      <td>0.0</td>\n",
       "      <td>NaN</td>\n",
       "      <td>NaN</td>\n",
       "      <td>NaN</td>\n",
       "      <td>NaN</td>\n",
       "      <td>NaN</td>\n",
       "      <td>NaN</td>\n",
       "      <td>NaN</td>\n",
       "      <td>NaN</td>\n",
       "    </tr>\n",
       "    <tr>\n",
       "      <th>1</th>\n",
       "      <td>NaN</td>\n",
       "      <td>NaN</td>\n",
       "      <td>NaN</td>\n",
       "      <td>NaN</td>\n",
       "      <td>NaN</td>\n",
       "      <td>NaN</td>\n",
       "      <td>NaN</td>\n",
       "      <td>NaN</td>\n",
       "      <td>NaN</td>\n",
       "      <td>NaN</td>\n",
       "      <td>...</td>\n",
       "      <td>NaN</td>\n",
       "      <td>NaN</td>\n",
       "      <td>NaN</td>\n",
       "      <td>NaN</td>\n",
       "      <td>NaN</td>\n",
       "      <td>NaN</td>\n",
       "      <td>NaN</td>\n",
       "      <td>NaN</td>\n",
       "      <td>NaN</td>\n",
       "      <td>NaN</td>\n",
       "    </tr>\n",
       "    <tr>\n",
       "      <th>2</th>\n",
       "      <td>NaN</td>\n",
       "      <td>NaN</td>\n",
       "      <td>NaN</td>\n",
       "      <td>NaN</td>\n",
       "      <td>NaN</td>\n",
       "      <td>NaN</td>\n",
       "      <td>NaN</td>\n",
       "      <td>NaN</td>\n",
       "      <td>NaN</td>\n",
       "      <td>NaN</td>\n",
       "      <td>...</td>\n",
       "      <td>NaN</td>\n",
       "      <td>2.0</td>\n",
       "      <td>1.0</td>\n",
       "      <td>NaN</td>\n",
       "      <td>NaN</td>\n",
       "      <td>3.0</td>\n",
       "      <td>NaN</td>\n",
       "      <td>NaN</td>\n",
       "      <td>NaN</td>\n",
       "      <td>0.0</td>\n",
       "    </tr>\n",
       "    <tr>\n",
       "      <th>3</th>\n",
       "      <td>NaN</td>\n",
       "      <td>3.0</td>\n",
       "      <td>NaN</td>\n",
       "      <td>NaN</td>\n",
       "      <td>NaN</td>\n",
       "      <td>NaN</td>\n",
       "      <td>NaN</td>\n",
       "      <td>NaN</td>\n",
       "      <td>NaN</td>\n",
       "      <td>NaN</td>\n",
       "      <td>...</td>\n",
       "      <td>NaN</td>\n",
       "      <td>NaN</td>\n",
       "      <td>NaN</td>\n",
       "      <td>NaN</td>\n",
       "      <td>NaN</td>\n",
       "      <td>NaN</td>\n",
       "      <td>NaN</td>\n",
       "      <td>NaN</td>\n",
       "      <td>NaN</td>\n",
       "      <td>NaN</td>\n",
       "    </tr>\n",
       "    <tr>\n",
       "      <th>4</th>\n",
       "      <td>NaN</td>\n",
       "      <td>NaN</td>\n",
       "      <td>NaN</td>\n",
       "      <td>NaN</td>\n",
       "      <td>NaN</td>\n",
       "      <td>NaN</td>\n",
       "      <td>NaN</td>\n",
       "      <td>NaN</td>\n",
       "      <td>NaN</td>\n",
       "      <td>NaN</td>\n",
       "      <td>...</td>\n",
       "      <td>4.0</td>\n",
       "      <td>NaN</td>\n",
       "      <td>NaN</td>\n",
       "      <td>NaN</td>\n",
       "      <td>NaN</td>\n",
       "      <td>NaN</td>\n",
       "      <td>NaN</td>\n",
       "      <td>NaN</td>\n",
       "      <td>NaN</td>\n",
       "      <td>NaN</td>\n",
       "    </tr>\n",
       "  </tbody>\n",
       "</table>\n",
       "<p>5 rows × 5000 columns</p>\n",
       "</div>"
      ],
      "text/plain": [
       "   0     1     2     3     4     5     6     7     8     9     ...  4990  \\\n",
       "0   NaN   NaN   NaN   NaN   NaN   NaN   NaN   NaN   NaN   NaN  ...   NaN   \n",
       "1   NaN   NaN   NaN   NaN   NaN   NaN   NaN   NaN   NaN   NaN  ...   NaN   \n",
       "2   NaN   NaN   NaN   NaN   NaN   NaN   NaN   NaN   NaN   NaN  ...   NaN   \n",
       "3   NaN   3.0   NaN   NaN   NaN   NaN   NaN   NaN   NaN   NaN  ...   NaN   \n",
       "4   NaN   NaN   NaN   NaN   NaN   NaN   NaN   NaN   NaN   NaN  ...   4.0   \n",
       "\n",
       "   4991  4992  4993  4994  4995  4996  4997  4998  4999  \n",
       "0   0.0   NaN   NaN   NaN   NaN   NaN   NaN   NaN   NaN  \n",
       "1   NaN   NaN   NaN   NaN   NaN   NaN   NaN   NaN   NaN  \n",
       "2   2.0   1.0   NaN   NaN   3.0   NaN   NaN   NaN   0.0  \n",
       "3   NaN   NaN   NaN   NaN   NaN   NaN   NaN   NaN   NaN  \n",
       "4   NaN   NaN   NaN   NaN   NaN   NaN   NaN   NaN   NaN  \n",
       "\n",
       "[5 rows x 5000 columns]"
      ]
     },
     "execution_count": 2,
     "metadata": {},
     "output_type": "execute_result"
    }
   ],
   "source": [
    "# Load our spotify data\n",
    "\n",
    "df = pd.read_csv('starRatings.csv', header=None)\n",
    "df.head()"
   ]
  },
  {
   "cell_type": "code",
   "execution_count": 3,
   "metadata": {},
   "outputs": [
    {
     "name": "stdout",
     "output_type": "stream",
     "text": [
      "number of users: 10000\n",
      "number of songs: 5000\n",
      "total num of ratings 4996173\n"
     ]
    }
   ],
   "source": [
    "# EDA\n",
    "num_users = df.shape[0]\n",
    "print('number of users:', num_users)\n",
    "num_songs = df.shape[1]\n",
    "print('number of songs:', num_songs)\n",
    "num_ratings = df.count().sum()\n",
    "print('total num of ratings', num_ratings)"
   ]
  },
  {
   "cell_type": "code",
   "execution_count": 4,
   "metadata": {},
   "outputs": [
    {
     "data": {
      "image/png": "[encoded data removed]",
      "text/plain": [
       "<Figure size 800x600 with 1 Axes>"
      ]
     },
     "metadata": {},
     "output_type": "display_data"
    }
   ],
   "source": [
    "# Visual\n",
    "ratings = df.values.flatten()\n",
    "\n",
    "# remove nans\n",
    "ratings = ratings[~np.isnan(ratings)]\n",
    "\n",
    "# plot\n",
    "plt.figure(figsize=(8, 6))\n",
    "plt.hist(ratings, bins=np.arange(min(ratings), max(ratings) + 1, 1), edgecolor='black', color='skyblue')\n",
    "plt.title('Distribution of Ratings')\n",
    "plt.xlabel('Rating')\n",
    "plt.ylabel('Frequency')\n",
    "plt.xticks(range(int(min(ratings)), int(max(ratings)) + 1))\n",
    "plt.grid(True)\n",
    "plt.show()"
   ]
  },
  {
   "cell_type": "code",
   "execution_count": 5,
   "metadata": {},
   "outputs": [
    {
     "name": "stdout",
     "output_type": "stream",
     "text": [
      "Sparsity of the user-song matrix: 90.01%\n"
     ]
    }
   ],
   "source": [
    "# check user-item sparsity\n",
    "total_possible_ratings = num_users * num_songs\n",
    "sparsity = 1 - (num_ratings / total_possible_ratings)\n",
    "print(f\"Sparsity of the user-song matrix: {sparsity:.2%}\")"
   ]
  },
  {
   "cell_type": "markdown",
   "metadata": {},
   "source": [
    "For the purpose of training, we will convert DataFrame into a long-format (user-item-rating triplets)"
   ]
  },
  {
   "cell_type": "code",
   "execution_count": 6,
   "metadata": {},
   "outputs": [],
   "source": [
    "# Assign colunm names and user ids as index\n",
    "\n",
    "df.columns = [i+1 for i in range(df.shape[1])]\n",
    "df.index = [i+1 for i in range(df.shape[0])]\n",
    "\n",
    "\n",
    "# Melt the df to a long-format\n",
    "df_long = df.reset_index().melt(id_vars='index', var_name='song',value_name='rating')\n",
    "\n",
    "# Rename the 'index' column to 'user'\n",
    "df_long.rename(columns={'index': 'user'}, inplace=True)\n",
    "\n",
    "# Filter out Nans\n",
    "df_long = df_long[df_long['rating'] > 0]\n",
    "\n",
    "# reset index for cleaningness\n",
    "df_long.reset_index(drop=True, inplace=True)"
   ]
  },
  {
   "cell_type": "code",
   "execution_count": 19,
   "metadata": {},
   "outputs": [],
   "source": [
    "import torch\n",
    "import torch.nn as nn\n",
    "from tqdm import tqdm_notebook as tqdm\n"
   ]
  },
  {
   "cell_type": "code",
   "execution_count": 8,
   "metadata": {},
   "outputs": [],
   "source": [
    "# PyTorch embedding layers requires continues index starting from 0\n",
    "# Using sklearn labelencoder to map the user-item index\n",
    "from sklearn.preprocessing import LabelEncoder\n",
    "\n",
    "user_encoder = LabelEncoder()\n",
    "item_encoder = LabelEncoder()\n",
    "\n",
    "df_long['user_id'] = user_encoder.fit_transform(df_long['user'])\n",
    "df_long['song_id'] = item_encoder.fit_transform(df_long['song'])\n",
    "\n",
    "num_users = df_long['user_id'].nunique()\n",
    "num_items = df_long['song_id'].nunique()\n"
   ]
  },
  {
   "cell_type": "code",
   "execution_count": 11,
   "metadata": {},
   "outputs": [],
   "source": [
    "# Convert to numpy format for easier manipulation\n",
    "ratings = df_long[['user_id','song_id','rating']].to_numpy()"
   ]
  },
  {
   "cell_type": "markdown",
   "metadata": {},
   "source": [
    "### Model Building"
   ]
  },
  {
   "cell_type": "code",
   "execution_count": 33,
   "metadata": {},
   "outputs": [],
   "source": [
    "# Define matrixfactorization class\n",
    "class MatrixFactorization(torch.nn.Module):\n",
    "    def __init__(self, num_user, num_items, num_factors = 20):\n",
    "        super().__init__()\n",
    "        # create user embeddings\n",
    "        self.user_factors = torch.nn.Embedding(num_users, num_factors)\n",
    "        # item embeddings\n",
    "        self.item_factors = torch.nn.Embedding(num_items, num_factors)\n",
    "    # initalize embedding weights drawn from a normal distribution between 0 - 0.01\n",
    "        self.user_factors.weight.data.normal_(0, 0.01)\n",
    "        self.item_factors.weight.data.normal_(0, 0.01)\n",
    "\n",
    "    def forward(self, user_indices, item_indices):\n",
    "        # matrix multiplication\n",
    "        user_vectors = self.user_factors(user_indices)\n",
    "        item_vectors = self.item_factors(item_indices)\n",
    "\n",
    "        prediction = (user_vectors * item_vectors).sum(dim=1)\n",
    "        return prediction\n",
    "    \n",
    "    def predict(self, user, item):\n",
    "        return self.forward(user,item)\n"
   ]
  },
  {
   "cell_type": "code",
   "execution_count": 34,
   "metadata": {},
   "outputs": [],
   "source": [
    "# Define dataloder\n",
    "from torch.utils.data import Dataset, DataLoader\n",
    "\n",
    "class RatingsDataset(Dataset):\n",
    "    def __init__(self, ratings):\n",
    "        self.users = torch.tensor(ratings[:, 0], dtype=torch.long)\n",
    "        self.items = torch.tensor(ratings[:, 1], dtype=torch.long)\n",
    "        self.ratings = torch.tensor(ratings[:, 2], dtype=torch.float32)\n",
    "\n",
    "    def __len__(self):\n",
    "        return len(self.ratings)\n",
    "    \n",
    "    def __getitem__(self, idx):\n",
    "        return self.users[idx], self.items[idx], self.ratings[idx]"
   ]
  },
  {
   "cell_type": "markdown",
   "metadata": {},
   "source": [
    "### Model Training"
   ]
  },
  {
   "cell_type": "code",
   "execution_count": 35,
   "metadata": {},
   "outputs": [],
   "source": [
    "# Create dataloaders\n",
    "\n",
    "train_set = RatingsDataset(ratings)\n",
    "train_loader = DataLoader(train_set, batch_size=1024, shuffle=True)\n"
   ]
  },
  {
   "cell_type": "code",
   "execution_count": 36,
   "metadata": {},
   "outputs": [
    {
     "name": "stdout",
     "output_type": "stream",
     "text": [
      "Is running on GPU: True\n"
     ]
    }
   ],
   "source": [
    "# check for gpu\n",
    "print('Is running on GPU:',torch.cuda.is_available())"
   ]
  },
  {
   "cell_type": "code",
   "execution_count": 43,
   "metadata": {},
   "outputs": [
    {
     "name": "stdout",
     "output_type": "stream",
     "text": [
      "MatrixFactorization(\n",
      "  (user_factors): Embedding(10000, 8)\n",
      "  (item_factors): Embedding(5000, 8)\n",
      ")\n",
      "user_factors.weight tensor([[ 0.0078,  0.0101,  0.0032,  ...,  0.0093, -0.0081,  0.0091],\n",
      "        [ 0.0042, -0.0045,  0.0069,  ...,  0.0019, -0.0014,  0.0002],\n",
      "        [-0.0058,  0.0039, -0.0002,  ...,  0.0184, -0.0096,  0.0084],\n",
      "        ...,\n",
      "        [ 0.0012,  0.0036, -0.0125,  ...,  0.0081,  0.0068, -0.0172],\n",
      "        [ 0.0076, -0.0045, -0.0122,  ...,  0.0042,  0.0010,  0.0029],\n",
      "        [ 0.0010, -0.0127, -0.0103,  ...,  0.0138,  0.0086, -0.0088]],\n",
      "       device='cuda:0')\n",
      "item_factors.weight tensor([[-0.0183,  0.0155,  0.0004,  ...,  0.0044,  0.0133,  0.0092],\n",
      "        [ 0.0021, -0.0031, -0.0081,  ..., -0.0053, -0.0024,  0.0111],\n",
      "        [-0.0096,  0.0017,  0.0042,  ...,  0.0046,  0.0037, -0.0097],\n",
      "        ...,\n",
      "        [ 0.0049, -0.0013,  0.0066,  ...,  0.0075,  0.0134,  0.0062],\n",
      "        [ 0.0035, -0.0018, -0.0113,  ..., -0.0092, -0.0030, -0.0206],\n",
      "        [ 0.0031,  0.0028, -0.0068,  ...,  0.0018,  0.0169,  0.0085]],\n",
      "       device='cuda:0')\n"
     ]
    }
   ],
   "source": [
    "# Setting up Model\n",
    "device = torch.device('cuda' if torch.cuda.is_available() else 'cpu')\n",
    "\n",
    "# setting up model\n",
    "model = MatrixFactorization(num_users, num_items, num_factors=8)\n",
    "model.to(device)\n",
    "\n",
    "print(model)\n",
    "\n",
    "# print out parameters being optimizted\n",
    "for name, param in model.named_parameters():\n",
    "    if param.requires_grad:\n",
    "        print(name, param.data)\n",
    "\n",
    "# Define loss function\n",
    "loss_function = nn.MSELoss()\n",
    "\n",
    "# Define the optimizer\n",
    "optimizer = torch.optim.Adam(model.parameters(), lr=0.001)\n"
   ]
  },
  {
   "cell_type": "code",
   "execution_count": 45,
   "metadata": {},
   "outputs": [
    {
     "name": "stderr",
     "output_type": "stream",
     "text": [
      "/tmp/ipykernel_17444/41883211.py:4: TqdmDeprecationWarning: This function will be removed in tqdm==5.0.0\n",
      "Please use `tqdm.notebook.tqdm` instead of `tqdm.tqdm_notebook`\n",
      "  for epochs in tqdm(range(num_epochs)):\n"
     ]
    },
    {
     "data": {
      "application/vnd.jupyter.widget-view+json": {
       "model_id": "e6485f53d0c84f368f99b868fb603d2d",
       "version_major": 2,
       "version_minor": 0
      },
      "text/plain": [
       "  0%|          | 0/128 [00:00<?, ?it/s]"
      ]
     },
     "metadata": {},
     "output_type": "display_data"
    },
    {
     "name": "stdout",
     "output_type": "stream",
     "text": [
      "Epoch 1/128, Training Loss: 0.9623\n",
      "Epoch 2/128, Training Loss: 0.9431\n",
      "Epoch 3/128, Training Loss: 0.9431\n",
      "Epoch 4/128, Training Loss: 0.9429\n",
      "Epoch 5/128, Training Loss: 0.9429\n",
      "Epoch 6/128, Training Loss: 0.9426\n",
      "Epoch 7/128, Training Loss: 0.9423\n",
      "Epoch 8/128, Training Loss: 0.9420\n",
      "Epoch 9/128, Training Loss: 0.9411\n",
      "Epoch 10/128, Training Loss: 0.9396\n",
      "Epoch 11/128, Training Loss: 0.9364\n",
      "Epoch 12/128, Training Loss: 0.9301\n",
      "Epoch 13/128, Training Loss: 0.9205\n",
      "Epoch 14/128, Training Loss: 0.9103\n",
      "Epoch 15/128, Training Loss: 0.9028\n",
      "Epoch 16/128, Training Loss: 0.8983\n",
      "Epoch 17/128, Training Loss: 0.8948\n",
      "Epoch 18/128, Training Loss: 0.8918\n",
      "Epoch 19/128, Training Loss: 0.8890\n",
      "Epoch 20/128, Training Loss: 0.8863\n",
      "Epoch 21/128, Training Loss: 0.8840\n",
      "Epoch 22/128, Training Loss: 0.8819\n",
      "Epoch 23/128, Training Loss: 0.8804\n",
      "Epoch 24/128, Training Loss: 0.8791\n",
      "Epoch 25/128, Training Loss: 0.8781\n",
      "Epoch 26/128, Training Loss: 0.8773\n",
      "Epoch 27/128, Training Loss: 0.8767\n",
      "Epoch 28/128, Training Loss: 0.8763\n",
      "Epoch 29/128, Training Loss: 0.8758\n",
      "Epoch 30/128, Training Loss: 0.8754\n",
      "Epoch 31/128, Training Loss: 0.8752\n",
      "Epoch 32/128, Training Loss: 0.8749\n",
      "Epoch 33/128, Training Loss: 0.8746\n",
      "Epoch 34/128, Training Loss: 0.8744\n",
      "Epoch 35/128, Training Loss: 0.8741\n",
      "Epoch 36/128, Training Loss: 0.8740\n",
      "Epoch 37/128, Training Loss: 0.8738\n",
      "Epoch 38/128, Training Loss: 0.8736\n",
      "Epoch 39/128, Training Loss: 0.8733\n",
      "Epoch 40/128, Training Loss: 0.8732\n",
      "Epoch 41/128, Training Loss: 0.8730\n",
      "Epoch 42/128, Training Loss: 0.8729\n",
      "Epoch 43/128, Training Loss: 0.8728\n",
      "Epoch 44/128, Training Loss: 0.8726\n",
      "Epoch 45/128, Training Loss: 0.8724\n",
      "Epoch 46/128, Training Loss: 0.8723\n",
      "Epoch 47/128, Training Loss: 0.8723\n",
      "Epoch 48/128, Training Loss: 0.8722\n",
      "Epoch 49/128, Training Loss: 0.8719\n",
      "Epoch 50/128, Training Loss: 0.8719\n",
      "Epoch 51/128, Training Loss: 0.8717\n",
      "Epoch 52/128, Training Loss: 0.8717\n",
      "Epoch 53/128, Training Loss: 0.8716\n",
      "Epoch 54/128, Training Loss: 0.8715\n",
      "Epoch 55/128, Training Loss: 0.8713\n",
      "Epoch 56/128, Training Loss: 0.8714\n",
      "Epoch 57/128, Training Loss: 0.8712\n",
      "Epoch 58/128, Training Loss: 0.8711\n",
      "Epoch 59/128, Training Loss: 0.8711\n",
      "Epoch 60/128, Training Loss: 0.8710\n",
      "Epoch 61/128, Training Loss: 0.8709\n",
      "Epoch 62/128, Training Loss: 0.8708\n",
      "Epoch 63/128, Training Loss: 0.8707\n",
      "Epoch 64/128, Training Loss: 0.8707\n",
      "Epoch 65/128, Training Loss: 0.8707\n",
      "Epoch 66/128, Training Loss: 0.8705\n",
      "Epoch 67/128, Training Loss: 0.8705\n",
      "Epoch 68/128, Training Loss: 0.8705\n",
      "Epoch 69/128, Training Loss: 0.8704\n",
      "Epoch 70/128, Training Loss: 0.8703\n",
      "Epoch 71/128, Training Loss: 0.8703\n",
      "Epoch 72/128, Training Loss: 0.8703\n",
      "Epoch 73/128, Training Loss: 0.8701\n",
      "Epoch 74/128, Training Loss: 0.8701\n",
      "Epoch 75/128, Training Loss: 0.8700\n",
      "Epoch 76/128, Training Loss: 0.8700\n",
      "Epoch 77/128, Training Loss: 0.8700\n",
      "Epoch 78/128, Training Loss: 0.8699\n",
      "Epoch 79/128, Training Loss: 0.8698\n",
      "Epoch 80/128, Training Loss: 0.8697\n",
      "Epoch 81/128, Training Loss: 0.8698\n",
      "Epoch 82/128, Training Loss: 0.8697\n",
      "Epoch 83/128, Training Loss: 0.8697\n",
      "Epoch 84/128, Training Loss: 0.8696\n",
      "Epoch 85/128, Training Loss: 0.8696\n",
      "Epoch 86/128, Training Loss: 0.8696\n",
      "Epoch 87/128, Training Loss: 0.8695\n",
      "Epoch 88/128, Training Loss: 0.8695\n",
      "Epoch 89/128, Training Loss: 0.8695\n",
      "Epoch 90/128, Training Loss: 0.8694\n",
      "Epoch 91/128, Training Loss: 0.8694\n",
      "Epoch 92/128, Training Loss: 0.8693\n",
      "Epoch 93/128, Training Loss: 0.8693\n",
      "Epoch 94/128, Training Loss: 0.8693\n",
      "Epoch 95/128, Training Loss: 0.8692\n",
      "Epoch 96/128, Training Loss: 0.8692\n",
      "Epoch 97/128, Training Loss: 0.8691\n",
      "Epoch 98/128, Training Loss: 0.8691\n",
      "Epoch 99/128, Training Loss: 0.8691\n",
      "Epoch 100/128, Training Loss: 0.8690\n",
      "Epoch 101/128, Training Loss: 0.8690\n",
      "Epoch 102/128, Training Loss: 0.8690\n",
      "Epoch 103/128, Training Loss: 0.8690\n",
      "Epoch 104/128, Training Loss: 0.8689\n",
      "Epoch 105/128, Training Loss: 0.8689\n",
      "Epoch 106/128, Training Loss: 0.8689\n",
      "Epoch 107/128, Training Loss: 0.8688\n",
      "Epoch 108/128, Training Loss: 0.8689\n",
      "Epoch 109/128, Training Loss: 0.8689\n",
      "Epoch 110/128, Training Loss: 0.8689\n",
      "Epoch 111/128, Training Loss: 0.8688\n",
      "Epoch 112/128, Training Loss: 0.8688\n",
      "Epoch 113/128, Training Loss: 0.8686\n",
      "Epoch 114/128, Training Loss: 0.8687\n",
      "Epoch 115/128, Training Loss: 0.8687\n",
      "Epoch 116/128, Training Loss: 0.8686\n",
      "Epoch 117/128, Training Loss: 0.8687\n",
      "Epoch 118/128, Training Loss: 0.8686\n",
      "Epoch 119/128, Training Loss: 0.8685\n",
      "Epoch 120/128, Training Loss: 0.8685\n",
      "Epoch 121/128, Training Loss: 0.8685\n",
      "Epoch 122/128, Training Loss: 0.8685\n",
      "Epoch 123/128, Training Loss: 0.8685\n",
      "Epoch 124/128, Training Loss: 0.8684\n",
      "Epoch 125/128, Training Loss: 0.8685\n",
      "Epoch 126/128, Training Loss: 0.8685\n",
      "Epoch 127/128, Training Loss: 0.8684\n",
      "Epoch 128/128, Training Loss: 0.8684\n"
     ]
    }
   ],
   "source": [
    "# Model trainning \n",
    "num_epochs = 128\n",
    "\n",
    "for epochs in tqdm(range(num_epochs)):\n",
    "    model.train()\n",
    "    losses = 0\n",
    "    for user_batch, item_batch, rating_batch in train_loader:\n",
    "        user_batch = user_batch.to(device)\n",
    "        item_batch = item_batch.to(device)\n",
    "        rating_batch = rating_batch.to(device)\n",
    "\n",
    "        optimizer.zero_grad()\n",
    "        predictions = model(user_batch, item_batch)\n",
    "        loss = loss_function(predictions, rating_batch)\n",
    "        loss.backward()\n",
    "        optimizer.step()\n",
    "\n",
    "        losses += loss.item() * len(rating_batch)\n",
    "\n",
    "    avg_train_loss = losses / len(train_loader.dataset)\n",
    "\n",
    "    print(f'Epoch {epochs+1}/{num_epochs}, Training Loss: {avg_train_loss:.4f}')"
   ]
  },
  {
   "cell_type": "code",
   "execution_count": 49,
   "metadata": {},
   "outputs": [],
   "source": [
    "# Save the trained model\n",
    "torch.save(model.state_dict(), 'matrix_factorization_model.pth')"
   ]
  },
  {
   "cell_type": "markdown",
   "metadata": {},
   "source": [
    "Furthur tuning of the model will improve the model's performance, MSE of 0.8684 is accecptable here.  \n",
    "Model Improvement:  \n",
    "* Tuning the hyperparameters: num_factors, learning rate, add regularization weight_decay.  \n",
    "* Incorporate Bias Terms to capture outliers.\n",
    "* Data Normalization: Mean-Centering.\n"
   ]
  },
  {
   "cell_type": "markdown",
   "metadata": {},
   "source": [
    "## Generating Recommendations"
   ]
  },
  {
   "cell_type": "markdown",
   "metadata": {},
   "source": [
    "Approach:  \n",
    "* Identify items the user has not rated.\n",
    "* Use the trained model to predict ratings for these items.\n",
    "* Select the top-N items with the highest predicted ratings.\n"
   ]
  },
  {
   "cell_type": "code",
   "execution_count": 48,
   "metadata": {},
   "outputs": [],
   "source": [
    "all_item_indices = torch.arange(num_items, dtype=torch.long).to(device)"
   ]
  },
  {
   "cell_type": "code",
   "execution_count": 51,
   "metadata": {},
   "outputs": [],
   "source": [
    "from collections import defaultdict\n",
    "\n",
    "# Build a dictionary where each key is a user_id and the value is a set of item_ids the user has interacted with\n",
    "known_user_item_pairs = defaultdict(set)\n",
    "for user_id, item_id, _ in ratings:\n",
    "    known_user_item_pairs[user_id].add(item_id)"
   ]
  },
  {
   "cell_type": "code",
   "execution_count": 56,
   "metadata": {},
   "outputs": [],
   "source": [
    "# Defin the recommendation function\n",
    "def recommend_items(model, user_id_to_predict, known_user_item_pairs, num_recommendations = 10):\n",
    "    # set model to evaluation mode\n",
    "    model.eval()\n",
    "\n",
    "    # Convert user_id to tensor\n",
    "    user_id = user_id_to_predict - 1\n",
    "\n",
    "    # Crate a tensor for the user id\n",
    "    user_tensor = torch.tensor([user_id], dtype=torch.long).to(device)\n",
    "\n",
    "    # Retrieve the known_items for the user\n",
    "    known_items = known_user_item_pairs.get(user_id_to_predict, set())\n",
    "\n",
    "    # Filter out known items\n",
    "    item_to_predict = [i for i in range(num_items) if i not in known_items]\n",
    "\n",
    "    # Convert to tensor\n",
    "    items_to_predict_tensor = torch.tensor(item_to_predict, dtype=torch.long).to(device)\n",
    "\n",
    "    # Repeat the user tensor to match the size of items_to_predict_tensor\n",
    "    user_tensor_expanded = user_tensor.repeat(len(items_to_predict_tensor))\n",
    "\n",
    "    # Use the model to predict ratings \n",
    "    with torch.no_grad():\n",
    "        predictions = model(user_tensor_expanded, items_to_predict_tensor)\n",
    "\n",
    "    # Get top N items with the highest predicted ratings as recommendations\n",
    "    top_preds = torch.topk(predictions, num_recommendations)\n",
    "\n",
    "    # Extract the indices of the recommended items\n",
    "    recommend_items_indices = items_to_predict_tensor[top_preds.indices].cpu().numpy()\n",
    "\n",
    "    # Map the encoded items indices back to item IDs\n",
    "    recommend_item_ids = item_encoder.inverse_transform(recommend_items_indices)\n",
    "\n",
    "    return recommend_item_ids\n"
   ]
  },
  {
   "cell_type": "code",
   "execution_count": 61,
   "metadata": {},
   "outputs": [],
   "source": [
    "# Since our song name is contained in another file we need to extract and form an according dict\n",
    "df_songs = pd.read_csv('spotify52kData.csv')\n",
    "\n",
    "# Set song dict\n",
    "song_names = df_songs.iloc[:5000, 3]\n",
    "song_ids = range(1, len(song_names) + 1)\n",
    "\n",
    "# Crate a dict to map song IDs to song names\n",
    "item_id_to_name = dict(zip(song_ids, song_names))"
   ]
  },
  {
   "cell_type": "code",
   "execution_count": 64,
   "metadata": {},
   "outputs": [
    {
     "name": "stdout",
     "output_type": "stream",
     "text": [
      "\n",
      "Recommended items for User 1:\n",
      "1. New Gold (feat. Tame Impala and Bootie Brown),3254\n",
      "2. My God Is Still The Same,2924\n",
      "3. B.Y.O.B.,3868\n",
      "4. The Kids Aren't Alright,2771\n",
      "5. You're Gonna Go Far, Kid,2563\n",
      "6. You're Gonna Go Far, Kid,3878\n",
      "7. Toxicity,3455\n",
      "8. Cult of Personality,3864\n",
      "9. Californication,2106\n",
      "10. White Flag,2562\n",
      "\n",
      "Recommended items for User 2:\n",
      "1. The Reason,3159\n",
      "2. You're Gonna Go Far, Kid,2563\n",
      "3. New Gold (feat. Tame Impala and Bootie Brown),3254\n",
      "4. Sweater Weather,2004\n",
      "5. The Kids Aren't Alright,2771\n",
      "6. Time of Dying,2907\n",
      "7. Californication,2106\n",
      "8. Can't Stop,2261\n",
      "9. Can't Stop,3465\n",
      "10. Numb,3008\n",
      "\n",
      "Recommended items for User 3:\n",
      "1. The 1975,3556\n",
      "2. Boku no Sensou,3356\n",
      "3. No Surprises,2056\n",
      "4. Blood // Water,3013\n",
      "5. Suddenly I See,138\n",
      "6. Daddy Issues,3001\n",
      "7. Born For This,3212\n",
      "8. Renegades,3311\n",
      "9. You're Gonna Go Far, Kid,2563\n",
      "10. Feel Invincible,3266\n",
      "\n",
      "Recommended items for User 4:\n",
      "1. Sweater Weather,2004\n",
      "2. New Gold (feat. Tame Impala and Bootie Brown),3254\n",
      "3. Can't Stop,3465\n",
      "4. You're Gonna Go Far, Kid,2563\n",
      "5. The Kids Aren't Alright,2771\n",
      "6. Numb,3008\n",
      "7. Bring Me To Life,3202\n",
      "8. The Middle,2612\n",
      "9. Chop Suey!,3257\n",
      "10. Can't Stop,2261\n",
      "\n",
      "Recommended items for User 5:\n",
      "1. The 1975,3556\n",
      "2. No Surprises,2056\n",
      "3. You and Me On The Rock (feat. Lucius),499\n",
      "4. Passenger Seat,486\n",
      "5. Blood // Water,3013\n",
      "6. Give Me Your Forever,11\n",
      "7. Adiós Nonino,1375\n",
      "8. Nutshell,2902\n",
      "9. Boku no Sensou,3356\n",
      "10. Feel Invincible,3266\n"
     ]
    }
   ],
   "source": [
    "# Specify the user IDs, dtype = INT\n",
    "user_ids = [1, 2, 3, 4, 5]  # List of user IDs for whom you want to generate recommendations\n",
    "\n",
    "# Loop over each user ID to generate recommendations\n",
    "for user_id in user_ids:\n",
    "    # Generate recommendations\n",
    "    recommendations = recommend_items(model, user_id, known_user_item_pairs, num_recommendations=10)\n",
    "    \n",
    "    # Print the recommendations\n",
    "    print(f'\\nRecommended items for User {user_id}:')\n",
    "    for idx, item_id in enumerate(recommendations, 1):\n",
    "        song_name = item_id_to_name.get(item_id, \"Unknown Song\")\n",
    "        print(f\"{idx}. {song_name},{item_id}\")"
   ]
  }
 ],
 "metadata": {
  "kernelspec": {
   "display_name": "base",
   "language": "python",
   "name": "python3"
  },
  "language_info": {
   "codemirror_mode": {
    "name": "ipython",
    "version": 3
   },
   "file_extension": ".py",
   "mimetype": "text/x-python",
   "name": "python",
   "nbconvert_exporter": "python",
   "pygments_lexer": "ipython3",
   "version": "3.8.20"
  }
 },
 "nbformat": 4,
 "nbformat_minor": 2
}
